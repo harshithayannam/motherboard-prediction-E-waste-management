{
 "cells": [
  {
   "cell_type": "code",
   "execution_count": 2,
   "metadata": {},
   "outputs": [],
   "source": [
    "from keras.preprocessing.image import ImageDataGenerator"
   ]
  },
  {
   "cell_type": "code",
   "execution_count": 3,
   "metadata": {},
   "outputs": [],
   "source": [
    "train_datagen=ImageDataGenerator(rescale=1./255,shear_range=0.2,zoom_range=0.2,horizontal_flip=True)\n",
    "test_datagen=ImageDataGenerator(rescale=1./255)"
   ]
  },
  {
   "cell_type": "code",
   "execution_count": 7,
   "metadata": {},
   "outputs": [
    {
     "output_type": "stream",
     "name": "stdout",
     "text": [
      "Found 32 images belonging to 8 classes.\nFound 32 images belonging to 8 classes.\n"
     ]
    }
   ],
   "source": [
    "\n",
    "x_train=train_datagen.flow_from_directory(r\"C:\\Users\\Sri_Harshitha\\Desktop\\motherboard prediction\\dataset\\trainset\",target_size=(64,64),batch_size=32,class_mode=\"categorical\")\n",
    "x_test=test_datagen.flow_from_directory(r\"C:\\Users\\Sri_Harshitha\\Desktop\\motherboard prediction\\dataset\\testset\",target_size=(64,64),batch_size=32,class_mode=\"categorical\")"
   ]
  },
  {
   "cell_type": "code",
   "execution_count": 8,
   "metadata": {},
   "outputs": [],
   "source": [
    "from keras.models import Sequential\n",
    "from keras.layers import Dense\n",
    "from keras.layers import Convolution2D\n",
    "from keras.layers import MaxPooling2D\n",
    "from keras.layers import Flatten"
   ]
  },
  {
   "cell_type": "code",
   "execution_count": 9,
   "metadata": {},
   "outputs": [],
   "source": [
    "model=Sequential()"
   ]
  },
  {
   "cell_type": "code",
   "execution_count": 10,
   "metadata": {},
   "outputs": [],
   "source": [
    "model.add(Convolution2D(32,(3,3),input_shape=(64,64,3),activation=\"relu\"))"
   ]
  },
  {
   "cell_type": "code",
   "execution_count": 12,
   "metadata": {},
   "outputs": [],
   "source": [
    "model.add(MaxPooling2D(pool_size=(2,2)))"
   ]
  },
  {
   "cell_type": "code",
   "execution_count": 13,
   "metadata": {},
   "outputs": [],
   "source": [
    "model.add(Flatten())"
   ]
  },
  {
   "cell_type": "code",
   "execution_count": 17,
   "metadata": {},
   "outputs": [],
   "source": [
    "model.add(Dense(units=128,activation=\"relu\"))"
   ]
  },
  {
   "cell_type": "code",
   "execution_count": 19,
   "metadata": {},
   "outputs": [],
   "source": [
    "model.add(Dense(units = 4, activation = \"softmax\"))"
   ]
  },
  {
   "cell_type": "code",
   "execution_count": 20,
   "metadata": {},
   "outputs": [],
   "source": [
    "model.compile(optimizer = \"adam\", loss =\"categorical_crossentropy\" , metrics = [\"accuracy\"] )"
   ]
  },
  {
   "cell_type": "code",
   "execution_count": 21,
   "metadata": {},
   "outputs": [
    {
     "output_type": "execute_result",
     "data": {
      "text/plain": [
       "{'IOports_Undamaged': 0,\n",
       " 'IOports_damaged': 1,\n",
       " 'Processor_Damaged': 2,\n",
       " 'Processor_Undamaged': 3,\n",
       " 'atxconnector_Damaged': 4,\n",
       " 'atxconnector_Undamaged': 5,\n",
       " 'cmosbattery_Undamaged': 6,\n",
       " 'cmosbattery_damaged': 7}"
      ]
     },
     "metadata": {},
     "execution_count": 21
    }
   ],
   "source": [
    "x_train.class_indices"
   ]
  },
  {
   "cell_type": "code",
   "execution_count": 13,
   "metadata": {
    "scrolled": false
   },
   "outputs": [
    {
     "name": "stdout",
     "output_type": "stream",
     "text": [
      "WARNING:tensorflow:From C:\\Users\\user\\anaconda3\\lib\\site-packages\\tensorflow\\python\\ops\\math_grad.py:1250: add_dispatch_support.<locals>.wrapper (from tensorflow.python.ops.array_ops) is deprecated and will be removed in a future version.\n",
      "Instructions for updating:\n",
      "Use tf.where in 2.0, which has the same broadcast rule as np.where\n",
      "WARNING:tensorflow:From C:\\Users\\user\\anaconda3\\lib\\site-packages\\keras\\backend\\tensorflow_backend.py:986: The name tf.assign_add is deprecated. Please use tf.compat.v1.assign_add instead.\n",
      "\n",
      "Epoch 1/20\n",
      "37/37 [==============================] - 70s 2s/step - loss: 0.8736 - acc: 0.5794 - val_loss: 0.8833 - val_acc: 0.5537\n",
      "Epoch 2/20\n",
      "37/37 [==============================] - 35s 937ms/step - loss: 0.6097 - acc: 0.7112 - val_loss: 0.8644 - val_acc: 0.6625\n",
      "Epoch 3/20\n",
      "37/37 [==============================] - 37s 991ms/step - loss: 0.5549 - acc: 0.7331 - val_loss: 1.0603 - val_acc: 0.5813\n",
      "Epoch 4/20\n",
      "37/37 [==============================] - 35s 940ms/step - loss: 0.5513 - acc: 0.7432 - val_loss: 0.8211 - val_acc: 0.6475\n",
      "Epoch 5/20\n",
      "37/37 [==============================] - 40s 1s/step - loss: 0.4942 - acc: 0.7829 - val_loss: 0.8310 - val_acc: 0.6687\n",
      "Epoch 6/20\n",
      "37/37 [==============================] - 48s 1s/step - loss: 0.4633 - acc: 0.7956 - val_loss: 0.6313 - val_acc: 0.7450\n",
      "Epoch 7/20\n",
      "37/37 [==============================] - 50s 1s/step - loss: 0.5016 - acc: 0.7804 - val_loss: 0.8853 - val_acc: 0.6425\n",
      "Epoch 8/20\n",
      "37/37 [==============================] - 35s 957ms/step - loss: 0.4811 - acc: 0.7888 - val_loss: 0.7948 - val_acc: 0.7150\n",
      "Epoch 9/20\n",
      "37/37 [==============================] - 42s 1s/step - loss: 0.4243 - acc: 0.8286 - val_loss: 0.6473 - val_acc: 0.7438\n",
      "Epoch 10/20\n",
      "37/37 [==============================] - 49s 1s/step - loss: 0.3509 - acc: 0.8640 - val_loss: 0.9417 - val_acc: 0.6925\n",
      "Epoch 11/20\n",
      "37/37 [==============================] - 45s 1s/step - loss: 0.3579 - acc: 0.8573 - val_loss: 0.8970 - val_acc: 0.6875\n",
      "Epoch 12/20\n",
      "37/37 [==============================] - 47s 1s/step - loss: 0.3847 - acc: 0.8455 - val_loss: 0.7974 - val_acc: 0.7525\n",
      "Epoch 13/20\n",
      "37/37 [==============================] - 48s 1s/step - loss: 0.4002 - acc: 0.8319 - val_loss: 0.8791 - val_acc: 0.7375\n",
      "Epoch 14/20\n",
      "37/37 [==============================] - 47s 1s/step - loss: 0.3119 - acc: 0.8742 - val_loss: 1.0684 - val_acc: 0.6925\n",
      "Epoch 15/20\n",
      "37/37 [==============================] - 59s 2s/step - loss: 0.3055 - acc: 0.8834 - val_loss: 0.7353 - val_acc: 0.7775\n",
      "Epoch 16/20\n",
      "37/37 [==============================] - 44s 1s/step - loss: 0.2989 - acc: 0.8817 - val_loss: 1.0031 - val_acc: 0.7212\n",
      "Epoch 17/20\n",
      "37/37 [==============================] - 40s 1s/step - loss: 0.2919 - acc: 0.8928 - val_loss: 0.7816 - val_acc: 0.7612\n",
      "Epoch 18/20\n",
      "37/37 [==============================] - 48s 1s/step - loss: 0.3493 - acc: 0.8590 - val_loss: 1.1199 - val_acc: 0.6575\n",
      "Epoch 19/20\n",
      "37/37 [==============================] - 47s 1s/step - loss: 0.2804 - acc: 0.9012 - val_loss: 0.8449 - val_acc: 0.7312\n",
      "Epoch 20/20\n",
      "37/37 [==============================] - 49s 1s/step - loss: 0.2692 - acc: 0.9012 - val_loss: 1.0003 - val_acc: 0.7512\n"
     ]
    },
    {
     "data": {
      "text/plain": [
       "<keras.callbacks.History at 0xdec3348>"
      ]
     },
     "execution_count": 13,
     "metadata": {},
     "output_type": "execute_result"
    }
   ],
   "source": [
    "model.fit_generator(x_train, steps_per_epoch = 37,epochs =20  ,validation_data = x_test , validation_steps = 25)"
   ]
  },
  {
   "cell_type": "code",
   "execution_count": 14,
   "metadata": {},
   "outputs": [],
   "source": [
    "model.save(\"weed recognition.h5\")"
   ]
  },
  {
   "cell_type": "code",
   "execution_count": null,
   "metadata": {},
   "outputs": [],
   "source": []
  }
 ],
 "metadata": {
  "kernelspec": {
   "name": "python385jvsc74a57bd019f29d8261f42dbbdcff8afd42d67434dea76dbbf000603e85909abbd4c131a8",
   "display_name": "Python 3.8.5 64-bit ('base': conda)"
  },
  "language_info": {
   "codemirror_mode": {
    "name": "ipython",
    "version": 3
   },
   "file_extension": ".py",
   "mimetype": "text/x-python",
   "name": "python",
   "nbconvert_exporter": "python",
   "pygments_lexer": "ipython3",
   "version": "3.8.5"
  }
 },
 "nbformat": 4,
 "nbformat_minor": 4
}